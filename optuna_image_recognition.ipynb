{
 "cells": [
  {
   "cell_type": "code",
   "execution_count": 1,
   "metadata": {},
   "outputs": [],
   "source": [
    "\n",
    "from keras.preprocessing.image import ImageDataGenerator\n",
    "from keras.layers import Conv2D, MaxPooling2D, Flatten, Dense\n",
    "from keras import models\n",
    "from keras import optimizers\n",
    "\n",
    "import time\n",
    "import threading\n",
    "import optuna\n",
    "from optuna_dashboard import wsgi\n",
    "from wsgiref.simple_server import make_server\n"
   ]
  },
  {
   "cell_type": "markdown",
   "metadata": {},
   "source": [
    "# Optuna Demo\n",
    "Steven Glover <br>\n",
    "cscie-89 Deep Learning <br>"
   ]
  },
  {
   "cell_type": "markdown",
   "metadata": {},
   "source": [
    "# Data\n",
    "\n",
    "https://www.kaggle.com/datasets/mohamedhanyyy/chest-ctscan-images/\n",
    "\n",
    "# Show size of data from each folder"
   ]
  },
  {
   "cell_type": "code",
   "execution_count": 2,
   "metadata": {},
   "outputs": [
    {
     "name": "stdout",
     "output_type": "stream",
     "text": [
      "Found 613 images belonging to 4 classes.\n",
      "Found 315 images belonging to 4 classes.\n"
     ]
    }
   ],
   "source": [
    "# Define Directories\n",
    "train_path = \"D:/Analytics/Kaggle Data/lung_ct_scan/train/\"\n",
    "validation_path = \"D:/Analytics/Kaggle Data/lung_ct_scan/valid/\"\n",
    "test_path = \"D:/Analytics/Kaggle Data/lung_ct_scan/test/\"\n",
    "\n",
    "# All images will be rescaled by 1./255\n",
    "train_datagen = ImageDataGenerator(rescale=1./255)\n",
    "test_datagen = ImageDataGenerator(rescale=1./255)\n",
    "\n",
    "train_generator = train_datagen.flow_from_directory(\n",
    "        train_path,\n",
    "        target_size=(150, 150),\n",
    "        batch_size=32,\n",
    "        class_mode='categorical')\n",
    "\n",
    "validation_generator = test_datagen.flow_from_directory(\n",
    "        test_path,\n",
    "        target_size=(150, 150),\n",
    "        batch_size=32,\n",
    "        class_mode='categorical')"
   ]
  },
  {
   "cell_type": "markdown",
   "metadata": {},
   "source": [
    "# Simple model for baseline"
   ]
  },
  {
   "cell_type": "code",
   "execution_count": 9,
   "metadata": {},
   "outputs": [
    {
     "name": "stdout",
     "output_type": "stream",
     "text": [
      "Epoch 1/10\n",
      "20/20 [==============================] - 25s 1s/step - loss: 4.1296 - acc: 0.3785 - val_loss: 1.2712 - val_acc: 0.4698\n",
      "Epoch 2/10\n",
      "20/20 [==============================] - 27s 1s/step - loss: 1.5397 - acc: 0.4747 - val_loss: 1.0294 - val_acc: 0.4508\n",
      "Epoch 3/10\n",
      "20/20 [==============================] - 24s 1s/step - loss: 1.2413 - acc: 0.5090 - val_loss: 1.1824 - val_acc: 0.5238\n",
      "Epoch 4/10\n",
      "20/20 [==============================] - 24s 1s/step - loss: 0.9737 - acc: 0.6297 - val_loss: 1.1457 - val_acc: 0.4508\n",
      "Epoch 5/10\n",
      "20/20 [==============================] - 25s 1s/step - loss: 0.7811 - acc: 0.7064 - val_loss: 1.0290 - val_acc: 0.4508\n",
      "Epoch 6/10\n",
      "20/20 [==============================] - 25s 1s/step - loss: 0.6815 - acc: 0.7162 - val_loss: 1.2214 - val_acc: 0.4159\n",
      "Epoch 7/10\n",
      "20/20 [==============================] - 24s 1s/step - loss: 0.5289 - acc: 0.7863 - val_loss: 1.2340 - val_acc: 0.5143\n",
      "Epoch 8/10\n",
      "20/20 [==============================] - 25s 1s/step - loss: 0.4858 - acc: 0.8026 - val_loss: 0.9921 - val_acc: 0.5302\n",
      "Epoch 9/10\n",
      "20/20 [==============================] - 25s 1s/step - loss: 0.4064 - acc: 0.8597 - val_loss: 0.9932 - val_acc: 0.5397\n",
      "Epoch 10/10\n",
      "20/20 [==============================] - 25s 1s/step - loss: 0.3639 - acc: 0.8744 - val_loss: 1.2158 - val_acc: 0.4667\n"
     ]
    }
   ],
   "source": [
    "model = models.Sequential()\n",
    "model.add(Conv2D(32, (3, 3), activation='relu',\n",
    "                        input_shape=(150, 150, 3)))\n",
    "model.add(MaxPooling2D((2, 2)))\n",
    "model.add(Flatten())\n",
    "model.add(Dense(512, activation='relu'))\n",
    "model.add(Dense(4, activation='softmax'))\n",
    "\n",
    "model.compile(loss='categorical_crossentropy',\n",
    "              optimizer=optimizers.RMSprop(learning_rate=1e-4),\n",
    "              metrics=['acc'])\n",
    "\n",
    "history = model.fit(\n",
    "      train_generator,\n",
    "      steps_per_epoch=len(train_generator),\n",
    "      epochs=10,\n",
    "      validation_data=validation_generator,\n",
    "      validation_steps=len(validation_generator))"
   ]
  },
  {
   "cell_type": "markdown",
   "metadata": {},
   "source": [
    "# Optuna\n",
    "## 2.a Trial, Study, and Suggest APIs"
   ]
  },
  {
   "cell_type": "markdown",
   "metadata": {},
   "source": [
    "The model began to drastically overfit after the 4th epoch. With this simple model architecture, the model began to overfit after the 4th epoch. Lets use Optuna to explore how we can improve the model. As a simple exmaple, to illustrate the API and its compenents, lets add some drop out to mitigate the overfitting. But how much dropout is optimal for this current architecture. \n",
    "\n",
    "### Dashboard and google colab\n",
    "https://stackoverflow.com/questions/76033104/launching-optuna-dashboard-in-google-colaboratory"
   ]
  },
  {
   "cell_type": "code",
   "execution_count": 2,
   "metadata": {},
   "outputs": [],
   "source": [
    "from google.colab import output\n",
    "\n",
    "port = 1234\n",
    "storage = optuna.storages.RDBStorage(\"sqlite:////content/drive/MyDrive/optimization.db\")\n",
    "app = wsgi(storage)\n",
    "httpd = make_server(\"localhost\", port, app)\n",
    "thread = threading.Thread(target=httpd.serve_forever)\n",
    "thread.start()\n",
    "time.sleep(5)\n",
    "\n",
    "output.serve_kernal_port_as_window(port, path=\"/dashboard/\")"
   ]
  },
  {
   "cell_type": "code",
   "execution_count": null,
   "metadata": {},
   "outputs": [],
   "source": []
  }
 ],
 "metadata": {
  "kernelspec": {
   "display_name": "DeepLearning",
   "language": "python",
   "name": "python3"
  },
  "language_info": {
   "codemirror_mode": {
    "name": "ipython",
    "version": 3
   },
   "file_extension": ".py",
   "mimetype": "text/x-python",
   "name": "python",
   "nbconvert_exporter": "python",
   "pygments_lexer": "ipython3",
   "version": "3.10.13"
  }
 },
 "nbformat": 4,
 "nbformat_minor": 2
}
